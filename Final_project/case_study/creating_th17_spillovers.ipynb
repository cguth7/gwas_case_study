{
 "cells": [
  {
   "cell_type": "code",
   "execution_count": 1,
   "metadata": {},
   "outputs": [],
   "source": [
    "from collections import defaultdict, deque\n",
    "import pandas as pd"
   ]
  },
  {
   "cell_type": "code",
   "execution_count": 2,
   "metadata": {},
   "outputs": [],
   "source": [
    "pathways = pd.read_csv(\"KEGG_data.csv\")"
   ]
  },
  {
   "cell_type": "code",
   "execution_count": 3,
   "metadata": {},
   "outputs": [],
   "source": [
    "IL23R_GENE_ID = 149233\n",
    "\n",
    "# Find all rows where IL23R is involved (either as source or target)\n",
    "il23r_rows = pathways[\n",
    "    (pathways['from_gene_entrez'] == IL23R_GENE_ID) | \n",
    "    (pathways['to_gene_entrez'] == IL23R_GENE_ID)\n",
    "].copy()"
   ]
  },
  {
   "cell_type": "code",
   "execution_count": 6,
   "metadata": {},
   "outputs": [],
   "source": [
    "th17_df = il23r_rows[il23r_rows[\"pathway_name\"].str.contains(\"Th17 cell differentiation\", na=False)].copy()"
   ]
  },
  {
   "cell_type": "code",
   "execution_count": 8,
   "metadata": {},
   "outputs": [],
   "source": [
    "adj = defaultdict(set)\n",
    "for u, v in th17_df[['from_gene_entrez','to_gene_entrez']].itertuples(index=False):\n",
    "    adj[u].add(v)\n",
    "    adj[v].add(u)"
   ]
  },
  {
   "cell_type": "code",
   "execution_count": 14,
   "metadata": {},
   "outputs": [
    {
     "name": "stdout",
     "output_type": "stream",
     "text": [
      "Edges in pathway: 147\n",
      "Start in graph? True\n",
      "Degree(start): 4\n",
      "Neighbors(start): [4087, 4088, 4089, 6774]\n",
      "Level 1: count=4\n",
      "Level 2: count=15\n",
      "Level 3: count=14\n",
      "L1: [4087, 4088, 4089, 6774]\n",
      "L2: [3091, 3561, 3570, 3572, 3594, 3605, 6095, 6097, 7046, 7048, 50615, 50616, 50943, 59067, 112744]\n",
      "L3: [861, 1432, 2475, 2625, 4772, 4773, 4775, 5600, 5603, 6300, 6776, 6777, 6778, 7040]\n"
     ]
    }
   ],
   "source": [
    "start = 149233  # IL23R\n",
    "pth = \"Th17 cell differentiation\"\n",
    "\n",
    "# 1) Filter to the full pathway subgraph (not just rows touching IL23R)\n",
    "th17_df = pathways[pathways[\"pathway_name\"] == pth].copy()\n",
    "\n",
    "# Sanity: how many edges?\n",
    "print(\"Edges in pathway:\", len(th17_df))\n",
    "\n",
    "# 2) Build UNDIRECTED adjacency (for direction-agnostic spillovers)\n",
    "adj = defaultdict(set)\n",
    "for _, row in th17_df.iterrows():\n",
    "    u = int(row[\"from_gene_entrez\"])\n",
    "    v = int(row[\"to_gene_entrez\"])\n",
    "    if pd.notna(u) and pd.notna(v):\n",
    "        adj[u].add(v)\n",
    "        adj[v].add(u)   # <= key line: makes it undirected\n",
    "\n",
    "# Sanity: show start’s degree and neighbors\n",
    "print(\"Start in graph?\", start in adj)\n",
    "print(\"Degree(start):\", len(adj[start]) if start in adj else 0)\n",
    "print(\"Neighbors(start):\", sorted(adj[start]) if start in adj else [])\n",
    "\n",
    "def k_hop_layers(adj, start, k):\n",
    "    if start not in adj:\n",
    "        return {d: set() for d in range(1, k+1)}\n",
    "    visited = {start}\n",
    "    frontier = {start}\n",
    "    layers = {}\n",
    "    for d in range(1, k+1):\n",
    "        nxt = set()\n",
    "        for u in frontier:\n",
    "            nxt |= (adj[u] - visited)\n",
    "        layers[d] = nxt\n",
    "        # Diagnostics\n",
    "        print(f\"Level {d}: count={len(nxt)}\")\n",
    "        if len(nxt) == 0:\n",
    "            # No more expansion possible; fill remaining levels with empties\n",
    "            for dd in range(d+1, k+1):\n",
    "                layers[dd] = set()\n",
    "            break\n",
    "        visited |= nxt\n",
    "        frontier = nxt\n",
    "    return layers\n",
    "\n",
    "layers = k_hop_layers(adj, start, 3)\n",
    "\n",
    "level_1_genes = sorted(layers[1])\n",
    "level_2_genes = sorted(layers[2])\n",
    "level_3_genes = sorted(layers[3])\n",
    "print(\"L1:\", level_1_genes)\n",
    "print(\"L2:\", level_2_genes)\n",
    "print(\"L3:\", level_3_genes)\n",
    "\n"
   ]
  },
  {
   "cell_type": "code",
   "execution_count": 15,
   "metadata": {},
   "outputs": [],
   "source": [
    "ibd_df = pd.read_parquet(\"ibd_panel.parquet\")"
   ]
  },
  {
   "cell_type": "code",
   "execution_count": 18,
   "metadata": {},
   "outputs": [],
   "source": [
    "allowed_genes = set([IL23R_GENE_ID] + level_1_genes + level_2_genes + level_3_genes)\n",
    "\n",
    "\n",
    "ibd_df['gene_id'] = ibd_df['gene_id'].astype(int)\n",
    "\n",
    "# 3) Filter to keep only rows whose gene is in the allowed set\n",
    "ibd_df_filtered = ibd_df[ibd_df['gene_id'].isin(allowed_genes)].copy()"
   ]
  },
  {
   "cell_type": "code",
   "execution_count": 21,
   "metadata": {},
   "outputs": [],
   "source": [
    "ibd_df_filtered.to_csv(\"th17_il23r_spillovers.csv\", index=False)"
   ]
  },
  {
   "cell_type": "code",
   "execution_count": null,
   "metadata": {},
   "outputs": [],
   "source": []
  }
 ],
 "metadata": {
  "kernelspec": {
   "display_name": "Python 3",
   "language": "python",
   "name": "python3"
  },
  "language_info": {
   "codemirror_mode": {
    "name": "ipython",
    "version": 3
   },
   "file_extension": ".py",
   "mimetype": "text/x-python",
   "name": "python",
   "nbconvert_exporter": "python",
   "pygments_lexer": "ipython3",
   "version": "3.9.6"
  }
 },
 "nbformat": 4,
 "nbformat_minor": 2
}
