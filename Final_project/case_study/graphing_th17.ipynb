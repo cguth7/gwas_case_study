{
 "cells": [
  {
   "cell_type": "code",
   "execution_count": 46,
   "metadata": {},
   "outputs": [],
   "source": [
    "import pandas as pd\n",
    "import matplotlib.pyplot as plt\n",
    "import os"
   ]
  },
  {
   "cell_type": "code",
   "execution_count": 47,
   "metadata": {},
   "outputs": [],
   "source": [
    "combined_df = pd.read_csv(\"th17_il23r_spillovers.csv\")\n",
    "IL23R = 149233"
   ]
  },
  {
   "cell_type": "code",
   "execution_count": 48,
   "metadata": {},
   "outputs": [],
   "source": [
    "mask_keep = (\n",
    "    (combined_df[\"gwas_year\"].isna()) |\n",
    "    (combined_df[\"gene_id\"] == IL23R) |\n",
    "    (combined_df[\"patent_year\"] < combined_df[\"gwas_year\"])\n",
    ")\n",
    "combined_pre = combined_df.loc[mask_keep].copy()\n"
   ]
  },
  {
   "cell_type": "code",
   "execution_count": 49,
   "metadata": {},
   "outputs": [
    {
     "name": "stdout",
     "output_type": "stream",
     "text": [
      "All five plots saved in 'graphs/' with light blue bars.\n"
     ]
    }
   ],
   "source": [
    "# Make sure output folder exists\n",
    "os.makedirs(\"graphs\", exist_ok=True)\n",
    "\n",
    "# ----- (1) IL23R only -----\n",
    "il23r_df = combined_pre[combined_pre[\"gene_id\"] == IL23R]\n",
    "il23r_total = il23r_df.groupby(\"patent_year\")[\"num_patents\"].sum().reset_index()\n",
    "\n",
    "plt.figure(figsize=(12,7))\n",
    "plt.bar(il23r_total[\"patent_year\"], il23r_total[\"num_patents\"], color=\"skyblue\")\n",
    "plt.title(\"IL23R: Number of Patents per Year (all years kept)\")\n",
    "plt.xlabel(\"Patent Year\")\n",
    "plt.ylabel(\"Total Patents\")\n",
    "plt.grid(True, axis=\"y\", linestyle=\"--\", linewidth=0.5)\n",
    "plt.axvline(x=2007, color=\"red\", linestyle=\":\", linewidth=2, label=\"Key Event (2007)\")\n",
    "plt.legend()\n",
    "plt.savefig(\"graphs/il23r_patents.png\")\n",
    "plt.close()\n",
    "\n",
    "# ----- (2) Everything except IL23R -----\n",
    "non_il23r_df = combined_pre[combined_pre[\"gene_id\"] != IL23R]\n",
    "\n",
    "# mean\n",
    "non_il23r_mean = non_il23r_df.groupby(\"patent_year\")[\"num_patents\"].mean().reset_index()\n",
    "plt.figure(figsize=(12,7))\n",
    "plt.bar(non_il23r_mean[\"patent_year\"], non_il23r_mean[\"num_patents\"], color=\"skyblue\")\n",
    "plt.title(\"Mean Patents per Year (excluding IL23R; pre-GWAS only by gene)\")\n",
    "plt.xlabel(\"Patent Year\")\n",
    "plt.ylabel(\"Mean Number of Patents\")\n",
    "plt.grid(True, axis=\"y\", linestyle=\"--\", linewidth=0.5)\n",
    "plt.axvline(x=2007, color=\"red\", linestyle=\":\", linewidth=2, label=\"Key Event (2007)\")\n",
    "plt.legend()\n",
    "plt.savefig(\"graphs/non_il23r_mean.png\")\n",
    "plt.close()\n",
    "\n",
    "# total\n",
    "non_il23r_total = non_il23r_df.groupby(\"patent_year\")[\"num_patents\"].sum().reset_index()\n",
    "plt.figure(figsize=(12,7))\n",
    "plt.bar(non_il23r_total[\"patent_year\"], non_il23r_total[\"num_patents\"], color=\"skyblue\")\n",
    "plt.title(\"Total Patents per Year (excluding IL23R; pre-GWAS only by gene)\")\n",
    "plt.xlabel(\"Patent Year\")\n",
    "plt.ylabel(\"Total Number of Patents\")\n",
    "plt.grid(True, axis=\"y\", linestyle=\"--\", linewidth=0.5)\n",
    "plt.axvline(x=2007, color=\"red\", linestyle=\":\", linewidth=2, label=\"Key Event (2007)\")\n",
    "plt.legend()\n",
    "plt.savefig(\"graphs/non_il23r_total.png\")\n",
    "plt.close()\n",
    "\n",
    "# ----- (3) All genes together -----\n",
    "# mean\n",
    "all_mean = combined_pre.groupby(\"patent_year\")[\"num_patents\"].mean().reset_index()\n",
    "plt.figure(figsize=(12,7))\n",
    "plt.bar(all_mean[\"patent_year\"], all_mean[\"num_patents\"], color=\"skyblue\")\n",
    "plt.title(\"Mean Patents per Year (all genes; pre-GWAS rule except IL23R)\")\n",
    "plt.xlabel(\"Patent Year\")\n",
    "plt.ylabel(\"Mean Number of Patents\")\n",
    "plt.grid(True, axis=\"y\", linestyle=\"--\", linewidth=0.5)\n",
    "plt.axvline(x=2007, color=\"red\", linestyle=\":\", linewidth=2, label=\"Key Event (2007)\")\n",
    "plt.legend()\n",
    "plt.savefig(\"graphs/all_genes_mean.png\")\n",
    "plt.close()\n",
    "\n",
    "# total\n",
    "all_total = combined_pre.groupby(\"patent_year\")[\"num_patents\"].sum().reset_index()\n",
    "plt.figure(figsize=(12,7))\n",
    "plt.bar(all_total[\"patent_year\"], all_total[\"num_patents\"], color=\"skyblue\")\n",
    "plt.title(\"Total Patents per Year (all genes; pre-GWAS rule except IL23R)\")\n",
    "plt.xlabel(\"Patent Year\")\n",
    "plt.ylabel(\"Total Number of Patents\")\n",
    "plt.grid(True, axis=\"y\", linestyle=\"--\", linewidth=0.5)\n",
    "plt.axvline(x=2007, color=\"red\", linestyle=\":\", linewidth=2, label=\"Key Event (2007)\")\n",
    "plt.legend()\n",
    "plt.savefig(\"graphs/all_genes_total.png\")\n",
    "plt.close()\n",
    "\n",
    "print(\"All five plots saved in 'graphs/' with light blue bars.\")"
   ]
  },
  {
   "cell_type": "code",
   "execution_count": null,
   "metadata": {},
   "outputs": [],
   "source": []
  }
 ],
 "metadata": {
  "kernelspec": {
   "display_name": "Python 3",
   "language": "python",
   "name": "python3"
  },
  "language_info": {
   "codemirror_mode": {
    "name": "ipython",
    "version": 3
   },
   "file_extension": ".py",
   "mimetype": "text/x-python",
   "name": "python",
   "nbconvert_exporter": "python",
   "pygments_lexer": "ipython3",
   "version": "3.9.6"
  }
 },
 "nbformat": 4,
 "nbformat_minor": 2
}
